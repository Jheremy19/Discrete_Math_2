{
 "cells": [
  {
   "cell_type": "markdown",
   "metadata": {},
   "source": [
    "$\\textbf{Discrete II Lecture 1 Assignment}$\n",
    "\n",
    "### Name: Jheremy Gabriel M. Lobitaña BSCS-1\n",
    "\n",
    "### ID Number: 23700004\n",
    "\n",
    "Instructions:\n",
    "- Use latex.\n",
    "- Write your latex in jupyter notebook.\n",
    "- Push your answer to your github account.\n",
    "- Deadline is 2 weeks before finals.\n",
    "- Fail to submit 2 weeks before finals is an automatic 5.0 for this assignment.\n",
    "- Each problem is 25 points.\n",
    "\n",
    "1. Recall the definition of a rational number, denoted as $\\mathbb{Q}$. Prove that the Euler's number $e = \\Sigma_{k=0}^\\infty \\frac{1}{k!} \\notin \\mathbb{Q}$. A factorial is defined as $k! = (k)(k-1)(k-2)(k-3)..., \\forall k \\in \\mathbb{Z}^+$, note that $0! = 1$. Furthermore, a sum notation $\\Sigma_{k=0}^\\infty k = 0+ 1 + 2 + 3 +....+...$"
   ]
  },
  {
   "cell_type": "markdown",
   "metadata": {},
   "source": [
    "### Question 1\n",
    "<hr>\n",
    "\n",
    "To prove that Euler's number $e = \\sum_{k=0}^\\infty \\frac{1}{k!} \\notin \\mathbb{Q}$, we'll use proof by contradiction.\n",
    "\n",
    "Assume $e$ is rational, meaning $e = \\frac{p}{q}$, where $p$ and $q$ are integers with no common factors other than $1$, and $q \\neq 0$.\n",
    "\n",
    "Then,\n",
    "$ e = \\frac{p}{q} = \\sum_{k=0}^\\infty \\frac{1}{k!} $\n",
    "\n",
    "Multiplying both sides by $q!$, we get:\n",
    "$ e \\cdot q! = p \\cdot \\sum_{k=0}^\\infty \\frac{1}{k!} $\n",
    "\n",
    "$ \\Rightarrow e \\cdot q! = p + p \\cdot \\frac{1}{1!} + p \\cdot \\frac{1}{2!} + p \\cdot \\frac{1}{3!} + \\ldots $\n",
    "\n",
    "$ \\Rightarrow e \\cdot q! = p(1 + \\frac{1}{1!} + \\frac{1}{2!} + \\frac{1}{3!} + \\ldots) $\n",
    "\n",
    "But, $1 + \\frac{1}{1!} + \\frac{1}{2!} + \\frac{1}{3!} + \\ldots$ is the sum of an infinite series, which is $e$ itself. Thus, we can replace it with $e$:\n",
    "\n",
    "$ e \\cdot q! = p \\cdot e $\n",
    "\n",
    "$ \\Rightarrow q! = p $\n",
    "\n",
    "This equation implies that $p$ divides $q!$ for any integer $p$, which contradicts the definition of prime numbers. \n",
    "\n",
    "Hence, our assumption that $e$ is rational must be false. Therefore, $e$ is irrational.\n",
    "\n",
    "$\n",
    "\\boxed{e \\notin \\mathbb{Q}}\n",
    "$\n"
   ]
  },
  {
   "cell_type": "markdown",
   "metadata": {},
   "source": [
    "### Question 2 - Prove Minkowski's Inequality for sums, $\\forall \\ p>1, (a_k, b_k)>0$:\n",
    "<hr>"
   ]
  },
  {
   "cell_type": "markdown",
   "metadata": {},
   "source": [
    "#### Minkowski's Inequality for Sums:\n",
    "\n",
    "For all $p > 1$ and positive real numbers $a_k$ and $b_k$, Minkowski's inequality states that:\n",
    "$ \\left( \\sum_{k=1}^n (a_k + b_k)^p \\right)^{1/p} \\leq \\left( \\sum_{k=1}^n a_k^p \\right)^{1/p} + \\left( \\sum_{k=1}^n b_k^p \\right)^{1/p} $\n",
    "\n",
    "#### Proof:\n",
    "\n",
    "Let $A = \\left( \\sum_{k=1}^n a_k^p \\right)^{1/p}$ and $B = \\left( \\sum_{k=1}^n b_k^p \\right)^{1/p}$.\n",
    "\n",
    "Consider the function $f(x) = x^p$ which is convex for $p > 1$. By Jensen's inequality, we have:\n",
    "$ \\frac{1}{2} \\left[ f(A) + f(B) \\right] \\leq f\\left(\\frac{A + B}{2}\\right) $\n",
    "\n",
    "$ \\Rightarrow \\frac{1}{2} \\left[ A^p + B^p \\right] \\leq \\left(\\frac{A + B}{2}\\right)^p $\n",
    "\n",
    "$ \\Rightarrow A^p + B^p \\leq 2^{p-1} (A^p + B^p) $\n",
    "\n",
    "$ \\Rightarrow 2^{1/p} (A^p + B^p)^{1/p} \\leq A + B $\n",
    "\n",
    "$ \\Rightarrow (A^p + B^p)^{1/p} \\leq (A + B) \\cdot 2^{1/p} $\n",
    "\n",
    "Now, consider the sum of $(a_k + b_k)^p$:\n",
    "$ \\sum_{k=1}^n (a_k + b_k)^p \\leq \\left( \\sum_{k=1}^n 1 \\right) \\cdot \\left( \\sum_{k=1}^n (a_k + b_k)^p \\right)^{1/p} $\n",
    "\n",
    "$ = n^{1/p} \\left( \\sum_{k=1}^n (a_k + b_k)^p \\right)^{1/p} $\n",
    "\n",
    "Using the inequality derived earlier, we have:\n",
    "$ n^{1/p} \\left( \\sum_{k=1}^n (a_k + b_k)^p \\right)^{1/p} \\leq n^{1/p} \\left( \\sum_{k=1}^n a_k^p \\right)^{1/p} + n^{1/p} \\left( \\sum_{k=1}^n b_k^p \\right)^{1/p} $\n",
    "\n",
    "$ \\Rightarrow \\left( \\sum_{k=1}^n (a_k + b_k)^p \\right)^{1/p} \\leq \\left( \\sum_{k=1}^n a_k^p \\right)^{1/p} + \\left( \\sum_{k=1}^n b_k^p \\right)^{1/p} $\n",
    "\n",
    "Hence, Minkowski's inequality for sums is proven.\n"
   ]
  },
  {
   "cell_type": "markdown",
   "metadata": {},
   "source": [
    "### Question 3 - Prove the triangle inequality $|x+y| \\leq |x| + |y|, \\forall (x,y) \\in \\mathbb{R}$\n",
    "<hr>"
   ]
  },
  {
   "cell_type": "markdown",
   "metadata": {},
   "source": [
    "#### Proof of Triangle Inequality:\n",
    "\n",
    "For any real numbers $x$ and $y$, we want to prove that $|x + y| \\leq |x| + |y|$.\n",
    "\n",
    "Consider the cases:\n",
    "\n",
    "#### Case 1: $x + y \\geq 0$\n",
    "\n",
    "In this case, $|x + y| = x + y$, $|x| = x$, and $|y| = y$. Therefore, we have:\n",
    "\n",
    "$ |x + y| = x + y = |x| + |y| $\n",
    "\n",
    "#### Case 2: $x + y < 0$\n",
    "\n",
    "In this case, $|x + y| = -(x + y)$, $|x| = -x$, and $|y| = -y$. Therefore, we have:\n",
    "\n",
    "$ |x + y| = -(x + y) = -x - y = |x| + |y| $\n",
    "\n",
    "#### Conclusion:\n",
    "\n",
    "In both cases, we have $|x + y| \\leq |x| + |y|$. Thus, the triangle inequality holds for all real numbers $x$ and $y$.\n"
   ]
  },
  {
   "cell_type": "markdown",
   "metadata": {},
   "source": [
    "### Question 4 - Prove Sedrakayan's Lemma $\\forall u_i, v_i \\in \\mathbb{R}^+$:\n",
    "<hr>"
   ]
  },
  {
   "cell_type": "markdown",
   "metadata": {},
   "source": [
    "#### Sedrakyan's Lemma:\n",
    "\n",
    "For all positive real numbers $u_i$ and $v_i$, Sedrakyan's Lemma states that:\n",
    "$ \\left( \\sum_{i=1}^n u_i \\right) \\left( \\sum_{i=1}^n v_i \\right) \\geq n^2 \\sum_{i=1}^n u_i v_i $\n",
    "\n",
    "#### Proof:\n",
    "\n",
    "We can rewrite the left-hand side of the inequality as:\n",
    "$ \\left( \\sum_{i=1}^n u_i \\right) \\left( \\sum_{i=1}^n v_i \\right) = \\sum_{i=1}^n \\sum_{j=1}^n u_i v_j $\n",
    "\n",
    "Similarly, the right-hand side becomes:\n",
    "$ n^2 \\sum_{i=1}^n u_i v_i = \\sum_{i=1}^n \\sum_{j=1}^n n u_i v_j = \\sum_{i=1}^n \\sum_{j=1}^n u_i v_j + \\sum_{i=1}^n \\sum_{j=1}^n (n-1)u_i v_j + \\ldots + \\sum_{i=1}^n \\sum_{j=1}^n u_i v_j $\n",
    "\n",
    "Now, observe that each term in the right-hand side appears in the left-hand side, and there are $n^2$ terms on both sides.\n",
    "\n",
    "By rearranging terms, we see that each term on the left-hand side is greater than or equal to the corresponding term on the right-hand side.\n",
    "\n",
    "Hence, we have:\n",
    "$ \\sum_{i=1}^n \\sum_{j=1}^n u_i v_j \\geq n^2 \\sum_{i=1}^n u_i v_i $\n",
    "\n",
    "Therefore, Sedrakyan's Lemma is proven.\n"
   ]
  }
 ],
 "metadata": {
  "language_info": {
   "name": "python"
  }
 },
 "nbformat": 4,
 "nbformat_minor": 2
}
