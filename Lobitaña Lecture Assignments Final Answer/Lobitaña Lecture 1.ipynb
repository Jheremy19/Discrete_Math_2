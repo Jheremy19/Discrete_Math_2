{
 "cells": [
  {
   "cell_type": "code",
   "execution_count": null,
   "metadata": {},
   "outputs": [],
   "source": []
  },
  {
   "cell_type": "markdown",
   "metadata": {},
   "source": [
    "**Name:** Jheremy Gabriel M. Lobitaña\n",
    "\n",
    "**Program and Year:** BSCS - 1\n",
    "\n",
    "**Date of work:** May 11 2024\n",
    "\n"
   ]
  },
