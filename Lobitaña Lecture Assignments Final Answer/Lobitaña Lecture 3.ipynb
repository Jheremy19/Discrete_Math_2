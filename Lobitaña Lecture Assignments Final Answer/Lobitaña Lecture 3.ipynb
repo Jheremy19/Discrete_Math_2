{
 "cells": [
  {
   "cell_type": "code",
   "execution_count": null,
   "metadata": {},
   "outputs": [],
   "source": []
  },
  {
   "cell_type": "markdown",
   "metadata": {},
   "source": [
    "**Name:** Jheremy Gabriel M. Lobitaña\n",
    "\n",
    "**Program and Year:** BSCS - 1\n",
    "\n",
    "**Date of work:** May 13 2024\n",
    "\n"
   ]
  },
  {
   "cell_type": "markdown",
   "metadata": {},
   "source": [
    "$\\textbf{DISCRETE MATH  II - LECTURE 3 ASSIGNMENT}$\n"
   ]
  },
  {
   "cell_type": "markdown",
   "metadata": {},
   "source": [
    "$\\textbf{ANSWERS}$\n"
   ]
  },
 {
   "cell_type": "markdown",
   "metadata": {},
   "source": [
    "### $\\textbf{Programming Assignment}$\n",
    "---\n",
    "1. Using Python Library create generate an example of each of the topics discussed in this jupyter notebook.\n",
    "2. Provide an explanation of each generated graph.\n",
    "3. Push the results to your github account."
   ]
  },
