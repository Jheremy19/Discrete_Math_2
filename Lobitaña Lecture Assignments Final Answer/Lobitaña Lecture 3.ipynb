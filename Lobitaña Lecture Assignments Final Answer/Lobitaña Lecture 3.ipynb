{
 "cells": [
  {
   "cell_type": "mark",
   "execution_count": null,
   "metadata": {},
   "outputs": [],
   "source": []
  },
  {
   "cell_type": "markdown",
   "metadata": {},
   "source": [
    "**Name:** Jheremy Gabriel M. Lobitaña\n",
    "\n",
    "**Program and Year:** BSCS - 1\n",
    "\n",
    "**Date of work:** May 13 2024\n",
    "\n"
   ]
  },
  {
   "cell_type": "markdown",
   "metadata": {},
   "source": [
    "$\\textbf{DISCRETE MATH  II - LECTURE 3 ASSIGNMENT}$\n"
   ]
  },
